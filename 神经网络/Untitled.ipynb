{
 "cells": [
  {
   "cell_type": "code",
   "execution_count": 21,
   "metadata": {},
   "outputs": [],
   "source": [
    "import numpy as np"
   ]
  },
  {
   "cell_type": "code",
   "execution_count": 22,
   "metadata": {},
   "outputs": [],
   "source": [
    "def sigmoid(x,deriv = False):\n",
    "    #反向传播\n",
    "    if (deriv == True):\n",
    "    #sigmoid的导数是sigmoid*(1-sigmoid) 这里是x是经过sigmoid之后得到的值\n",
    "        return x*(1-x)\n",
    "    return 1/(1+np.exp(-x))\n",
    "x = np.array([[0,0,1],\n",
    "           [0,1,1],\n",
    "           [1,0,1],\n",
    "           [1,1,1],\n",
    "           [0,0,1]]\n",
    ")\n",
    "y = np.array([[0],[1],[1],[0],[0]])\n",
    "np.random.seed(1)\n",
    "#random生成的是0到1的浮点数 乘2再减去1得到的是-1到1之间的值\n",
    "w0 = 2 * np.random.random((3,4))-1\n",
    "w1 = 2 * np.random.random((4,1))-1"
   ]
  },
  {
   "cell_type": "code",
   "execution_count": 23,
   "metadata": {},
   "outputs": [
    {
     "name": "stdout",
     "output_type": "stream",
     "text": [
      "Error:0.491874\n",
      "Error:0.015124\n",
      "Error:0.009794\n",
      "Error:0.007684\n",
      "Error:0.006493\n",
      "Error:0.005709\n",
      "Error:0.005144\n",
      "Error:0.004714\n",
      "Error:0.004373\n",
      "Error:0.004094\n",
      "Error:0.003860\n",
      "Error:0.003662\n",
      "Error:0.003490\n",
      "Error:0.003339\n",
      "Error:0.003206\n",
      "Error:0.003087\n",
      "Error:0.002980\n",
      "Error:0.002883\n",
      "Error:0.002794\n",
      "Error:0.002713\n"
     ]
    }
   ],
   "source": [
    "for j in range(100000):\n",
    "    l0 = x\n",
    "    l1net = np.dot(l0,w0)\n",
    "    l1out = sigmoid(l1net)\n",
    "    l2net = np.dot(l1out,w1)\n",
    "    l2out = sigmoid(l2net)\n",
    "    #print(l0,l1net,l1out,l2net,l2out)\n",
    "    l2_error = y-l2out\n",
    "    if (j%5000==0):\n",
    "        print(\"Error:%2f\"%(np.mean(np.abs(l2_error))))\n",
    "    #反向传播 w1对损失值的影响\n",
    "    dout2net2 = l2out * (1-l2out)\n",
    "    dnet2w1 = l1out.T\n",
    "    w1effect = dnet2w1.dot(l2_error * dout2net2)\n",
    "    \n",
    "    #dEnet2=dEout2*dout2net2\n",
    "    dEnet2 = l2_error * dout2net2\n",
    "    #dEout1=dEnet2 * dnet2out1\n",
    "    dEout1 = dEnet2.dot(w1.T)\n",
    "    \n",
    "    dout1net1 = l1out * (1-l1out)\n",
    "    dnet1w0 = l0.T\n",
    "    w0effect = dnet1w0.dot(dEout1 * dout1net1)\n",
    "    w1+= w1effect\n",
    "    w0+= w0effect"
   ]
  },
  {
   "cell_type": "code",
   "execution_count": null,
   "metadata": {},
   "outputs": [],
   "source": []
  }
 ],
 "metadata": {
  "kernelspec": {
   "display_name": "Python 3",
   "language": "python",
   "name": "python3"
  },
  "language_info": {
   "codemirror_mode": {
    "name": "ipython",
    "version": 3
   },
   "file_extension": ".py",
   "mimetype": "text/x-python",
   "name": "python",
   "nbconvert_exporter": "python",
   "pygments_lexer": "ipython3",
   "version": "3.5.5"
  }
 },
 "nbformat": 4,
 "nbformat_minor": 2
}
