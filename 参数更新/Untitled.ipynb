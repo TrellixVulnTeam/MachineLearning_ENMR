{
 "cells": [
  {
   "cell_type": "code",
   "execution_count": 6,
   "metadata": {},
   "outputs": [
    {
     "name": "stdout",
     "output_type": "stream",
     "text": [
      "训练集个数:112  验证集个数:38 \n"
     ]
    }
   ],
   "source": [
    "from sklearn.datasets import load_iris\n",
    "from sklearn.svm import SVC\n",
    "from sklearn.model_selection import train_test_split \n",
    "iris = load_iris()\n",
    "X_train,X_test,y_train,y_test = train_test_split(iris.data,iris.target,random_state=0)\n",
    "print(\"训练集个数:%d  测试集个数:%d \"%((len(X_train)),len(X_test)))\n",
    "#X_train,X_test,y_train,y_test = train_test_split (iris.data)"
   ]
  },
  {
   "cell_type": "code",
   "execution_count": 26,
   "metadata": {},
   "outputs": [
    {
     "name": "stdout",
     "output_type": "stream",
     "text": [
      "best_score:0.97\n",
      "best_parameters:{'gamma': 0.001, 'C': 100}\n"
     ]
    }
   ],
   "source": [
    "#开始进行网格搜索\n",
    "best_score = 0\n",
    "for gamma in [0.001,0.01,0.1,1,10,100]:\n",
    "    for C in [0.001,0.01,0.1,1,10,100]:\n",
    "        svm = SVC(gamma = gamma ,C = C)\n",
    "        svm.fit(X_train,y_train)\n",
    "        score = svm.score(X_test,y_test)\n",
    "        if score > best_score:\n",
    "            best_score = score\n",
    "            best_parameters = {'gamma':gamma,'C':C}\n",
    "print(\"best_score:{:.2f}\".format(best_score))\n",
    "print(\"best_parameters:{}\".format(best_parameters))"
   ]
  },
  {
   "cell_type": "code",
   "execution_count": 64,
   "metadata": {},
   "outputs": [
    {
     "name": "stdout",
     "output_type": "stream",
     "text": [
      "训练集个数:84  验证集个数:28  测试集个数:38 \n"
     ]
    }
   ],
   "source": [
    "X_trainval,X_test,y_trainval,y_test = train_test_split(iris.data,iris.target)\n",
    "X_train,X_val,y_train,y_val = train_test_split(X_trainval,y_trainval)\n",
    "print(\"训练集个数:%d  验证集个数:%d  测试集个数:%d \"%((len(X_train)),len(X_val),len(X_test)))"
   ]
  },
  {
   "cell_type": "code",
   "execution_count": 65,
   "metadata": {},
   "outputs": [
    {
     "name": "stdout",
     "output_type": "stream",
     "text": [
      "best_score:1.00\n",
      "best_parameters:{'gamma': 0.001, 'C': 100}\n",
      "best_score:0.95\n"
     ]
    }
   ],
   "source": [
    "best_scroe = 0\n",
    "for gamma in [0.001,0.01,0.1,1,10,100]:\n",
    "    for C in [0.001,0.01,0.1,1,10,100]:\n",
    "        svm = SVC(gamma=gamma,C=C)\n",
    "        svm.fit(X_train,y_train)\n",
    "        score = svm.score(X_val,y_val)\n",
    "        if score > best_score:\n",
    "            best_score = score\n",
    "            best_parameters = {'gamma':gamma,'C':C}\n",
    "svm = SVC(**best_parameters)\n",
    "svm.fit(X_trainval,y_trainval)\n",
    "test_score = svm.score(X_test,y_test)\n",
    "print(\"best_score:{:.2f}\".format(best_score))\n",
    "print(\"best_parameters:{}\".format(best_parameters))\n",
    "print(\"best_score:{:.2f}\".format(test_score))"
   ]
  },
  {
   "cell_type": "code",
   "execution_count": 67,
   "metadata": {},
   "outputs": [
    {
     "name": "stdout",
     "output_type": "stream",
     "text": [
      "best_score:0.97\n",
      "best_parameters:{'gamma': 0.1, 'C': 1}\n",
      "best_score:0.95\n"
     ]
    }
   ],
   "source": [
    "from sklearn.model_selection import cross_val_score\n",
    "best_score = 0.0\n",
    "for gamma in [0.001,0.01,0.1,1,10,100]:\n",
    "    for C in [0.001,0.01,0.1,1,10,100]:\n",
    "        svm = SVC(gamma=gamma,C=C)\n",
    "        scores = cross_val_score(svm,X_trainval,y_trainval,cv=5)\n",
    "        score = scores.mean()\n",
    "        if score > best_score:\n",
    "            best_score = score \n",
    "            best_parameters = {'gamma':gamma,'C':C}\n",
    "svm = SVC(**best_parameters)\n",
    "svm.fit(X_trainval,y_trainval)\n",
    "test_score = svm.score(X_test,y_test)\n",
    "print(\"best_score:{:.2f}\".format(best_score))\n",
    "print(\"best_parameters:{}\".format(best_parameters))\n",
    "print(\"best_score:{:.2f}\".format(test_score))"
   ]
  },
  {
   "cell_type": "code",
   "execution_count": 79,
   "metadata": {},
   "outputs": [
    {
     "name": "stdout",
     "output_type": "stream",
     "text": [
      "Best set score:0.98\n",
      "Best parameters:{'gamma': 0.1, 'C': 10}\n",
      "Test set score:0.97\n"
     ]
    }
   ],
   "source": [
    "from sklearn.model_selection import GridSearchCV\n",
    "#需要求的参数的范围(列表的形式)\n",
    "param_grid = {\"gamma\":[0.001,0.01,0.1,1,10,100],\n",
    "              \"C\":[0.001,0.01,0.1,1,10,100]}\n",
    "#estimator模型 （将所求参数之外的确定的参数给出 ）\n",
    "estimator = SVC()\n",
    "grid_search = GridSearchCV(estimator,param_grid,cv = 5)\n",
    "X_train,X_test,y_train,y_test = train_test_split(iris.data,iris.target,random_state=10)\n",
    "grid_search.fit(X_train,y_train)\n",
    "print(\"Best set score:{:.2f}\".format(grid_search.best_score_))\n",
    "print(\"Best parameters:{}\".format(grid_search.best_params_))\n",
    "print(\"Test set score:{:.2f}\".format(grid_search.score(X_test,y_test)))"
   ]
  },
  {
   "cell_type": "code",
   "execution_count": null,
   "metadata": {},
   "outputs": [],
   "source": []
  }
 ],
 "metadata": {
  "kernelspec": {
   "display_name": "Python 3",
   "language": "python",
   "name": "python3"
  },
  "language_info": {
   "codemirror_mode": {
    "name": "ipython",
    "version": 3
   },
   "file_extension": ".py",
   "mimetype": "text/x-python",
   "name": "python",
   "nbconvert_exporter": "python",
   "pygments_lexer": "ipython3",
   "version": "3.5.5"
  }
 },
 "nbformat": 4,
 "nbformat_minor": 2
}
