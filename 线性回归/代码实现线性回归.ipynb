{
 "cells": [
  {
   "cell_type": "code",
   "execution_count": 1,
   "metadata": {},
   "outputs": [
    {
     "name": "stdout",
     "output_type": "stream",
     "text": [
      "(442, 10)\n",
      "(442,)\n"
     ]
    }
   ],
   "source": [
    "from sklearn.datasets import load_diabetes\n",
    "import numpy as np\n",
    "diabetes = load_diabetes()\n",
    "data = diabetes.data\n",
    "target = diabetes.target\n",
    "print(data.shape)\n",
    "print(target.shape)"
   ]
  },
  {
   "cell_type": "code",
   "execution_count": 2,
   "metadata": {},
   "outputs": [
    {
     "name": "stdout",
     "output_type": "stream",
     "text": [
      "(422, 1)\n"
     ]
    }
   ],
   "source": [
    "X = data[:,:1]\n",
    "y = target \n",
    "X_train = X[:-20]\n",
    "print(X_train.shape)\n",
    "X_test = X[-20:]\n",
    "y_train = y[:-20].reshape((-1,1))\n",
    "y_test = y[-20:].reshape((-1,1))"
   ]
  },
  {
   "cell_type": "code",
   "execution_count": 3,
   "metadata": {},
   "outputs": [],
   "source": [
    "class linear(object):\n",
    "    def _init_(self):\n",
    "        self.W = None \n",
    "        self.b = None \n",
    "    def loss(self,X,y):\n",
    "        num_feature = X.shape[1]\n",
    "        num_train = X.shape[0]\n",
    "        h = X.dot(self.W) + self.b\n",
    "        loss =0.5 * np.sum(np.square(h - y))/num_train\n",
    "        dW = X.T.dot((h-y)) / num_train\n",
    "        db = np.sum((h-y)) / num_train\n",
    "        return loss,dW,db\n",
    "    def train(self,X,y,learn_rate = 0.001,iters = 10000):\n",
    "        num_feature = X.shape[1]\n",
    "        self.W = np.zeros((num_feature,1))\n",
    "        self.b = 0\n",
    "        loss_list = []\n",
    "        \n",
    "        for i in range(iters):\n",
    "            loss,dW,db = self.loss(X ,y)\n",
    "            loss_list.append(loss)\n",
    "            self.W += -learn_rate * dW\n",
    "            self.b += -learn_rate * db\n",
    "            \n",
    "            if i%500 == 0:\n",
    "                print(\"iters = %d , loss = %f\"%(i,loss))\n",
    "        return loss_list   "
   ]
  },
  {
   "cell_type": "code",
   "execution_count": 4,
   "metadata": {
    "scrolled": true
   },
   "outputs": [
    {
     "name": "stdout",
     "output_type": "stream",
     "text": [
      "start\n",
      "iters = 0 , loss = 14734.323460\n",
      "iters = 500 , loss = 7298.125639\n",
      "iters = 1000 , loss = 4563.715670\n",
      "iters = 1500 , loss = 3558.131670\n",
      "iters = 2000 , loss = 3188.229325\n",
      "iters = 2500 , loss = 3052.064529\n",
      "iters = 3000 , loss = 3001.844299\n",
      "iters = 3500 , loss = 2983.225837\n",
      "iters = 4000 , loss = 2976.227547\n",
      "iters = 4500 , loss = 2973.502288\n",
      "iters = 5000 , loss = 2972.348550\n",
      "iters = 5500 , loss = 2971.772999\n",
      "iters = 6000 , loss = 2971.410390\n",
      "iters = 6500 , loss = 2971.126423\n",
      "iters = 7000 , loss = 2970.871717\n",
      "iters = 7500 , loss = 2970.628112\n",
      "iters = 8000 , loss = 2970.388932\n",
      "iters = 8500 , loss = 2970.151720\n",
      "iters = 9000 , loss = 2969.915572\n",
      "iters = 9500 , loss = 2969.680155\n",
      "end\n",
      "[[6.98720088]] 153.35317105469645\n"
     ]
    }
   ],
   "source": [
    "classify = linear()\n",
    "print(\"start\")\n",
    "loss_list = classify.train(X_train,y_train)\n",
    "print(\"end\")\n",
    "print(classify.W,classify.b)"
   ]
  },
  {
   "cell_type": "code",
   "execution_count": 5,
   "metadata": {},
   "outputs": [
    {
     "data": {
      "text/plain": [
       "<Figure size 640x480 with 2 Axes>"
      ]
     },
     "metadata": {},
     "output_type": "display_data"
    }
   ],
   "source": [
    "import matplotlib.pyplot as plt\n",
    "f = X_train.dot(classify.W) + classify.b\n",
    "fig = plt.figure()\n",
    "plt.subplot(211)\n",
    "plt.scatter(X_train,y_train,color = 'black')\n",
    "plt.scatter(X_test,y_test,color = 'blue')\n",
    "plt.plot(X_train,f,color = 'red')\n",
    "plt.xlabel('X')\n",
    "plt.ylabel('y')\n",
    "plt.subplot(212)\n",
    "plt.plot(loss_list,color = 'blue')\n",
    "plt.xlabel('epochs')\n",
    "plt.ylabel('errors')\n",
    "plt.show()"
   ]
  },
  {
   "cell_type": "code",
   "execution_count": null,
   "metadata": {},
   "outputs": [],
   "source": []
  }
 ],
 "metadata": {
  "kernelspec": {
   "display_name": "Python 3",
   "language": "python",
   "name": "python3"
  },
  "language_info": {
   "codemirror_mode": {
    "name": "ipython",
    "version": 3
   },
   "file_extension": ".py",
   "mimetype": "text/x-python",
   "name": "python",
   "nbconvert_exporter": "python",
   "pygments_lexer": "ipython3",
   "version": "3.5.5"
  }
 },
 "nbformat": 4,
 "nbformat_minor": 2
}
