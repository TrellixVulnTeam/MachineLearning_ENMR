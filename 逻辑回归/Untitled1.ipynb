{
 "cells": [
  {
   "cell_type": "code",
   "execution_count": 1,
   "metadata": {},
   "outputs": [
    {
     "data": {
      "text/html": [
       "<div>\n",
       "<style scoped>\n",
       "    .dataframe tbody tr th:only-of-type {\n",
       "        vertical-align: middle;\n",
       "    }\n",
       "\n",
       "    .dataframe tbody tr th {\n",
       "        vertical-align: top;\n",
       "    }\n",
       "\n",
       "    .dataframe thead th {\n",
       "        text-align: right;\n",
       "    }\n",
       "</style>\n",
       "<table border=\"1\" class=\"dataframe\">\n",
       "  <thead>\n",
       "    <tr style=\"text-align: right;\">\n",
       "      <th></th>\n",
       "      <th>Exam 1</th>\n",
       "      <th>Exam 2</th>\n",
       "      <th>Admitted</th>\n",
       "    </tr>\n",
       "  </thead>\n",
       "  <tbody>\n",
       "    <tr>\n",
       "      <th>0</th>\n",
       "      <td>34.623660</td>\n",
       "      <td>78.024693</td>\n",
       "      <td>0</td>\n",
       "    </tr>\n",
       "    <tr>\n",
       "      <th>1</th>\n",
       "      <td>30.286711</td>\n",
       "      <td>43.894998</td>\n",
       "      <td>0</td>\n",
       "    </tr>\n",
       "    <tr>\n",
       "      <th>2</th>\n",
       "      <td>35.847409</td>\n",
       "      <td>72.902198</td>\n",
       "      <td>0</td>\n",
       "    </tr>\n",
       "    <tr>\n",
       "      <th>3</th>\n",
       "      <td>60.182599</td>\n",
       "      <td>86.308552</td>\n",
       "      <td>1</td>\n",
       "    </tr>\n",
       "    <tr>\n",
       "      <th>4</th>\n",
       "      <td>79.032736</td>\n",
       "      <td>75.344376</td>\n",
       "      <td>1</td>\n",
       "    </tr>\n",
       "  </tbody>\n",
       "</table>\n",
       "</div>"
      ],
      "text/plain": [
       "      Exam 1     Exam 2  Admitted\n",
       "0  34.623660  78.024693         0\n",
       "1  30.286711  43.894998         0\n",
       "2  35.847409  72.902198         0\n",
       "3  60.182599  86.308552         1\n",
       "4  79.032736  75.344376         1"
      ]
     },
     "execution_count": 1,
     "metadata": {},
     "output_type": "execute_result"
    }
   ],
   "source": [
    "import pandas as pd\n",
    "data = pd.read_csv(\"data/LogiReg_data.txt\",header=None, names=['Exam 1', 'Exam 2', 'Admitted'])\n",
    "data.head(5)"
   ]
  },
  {
   "cell_type": "code",
   "execution_count": 2,
   "metadata": {},
   "outputs": [
    {
     "name": "stdout",
     "output_type": "stream",
     "text": [
      "1    60\n",
      "0    40\n",
      "Name: Admitted, dtype: int64\n",
      "(100, 3)\n"
     ]
    }
   ],
   "source": [
    "print(data[\"Admitted\"].value_counts())\n",
    "print(data.shape)"
   ]
  },
  {
   "cell_type": "code",
   "execution_count": 3,
   "metadata": {},
   "outputs": [
    {
     "data": {
      "text/plain": [
       "Text(0,0.5,'Exam 2 Score')"
      ]
     },
     "execution_count": 3,
     "metadata": {},
     "output_type": "execute_result"
    }
   ],
   "source": [
    "import matplotlib.pyplot as plt\n",
    "positive = data[data[\"Admitted\"]==1]\n",
    "negative = data[data[\"Admitted\"]==0]\n",
    "fig, ax = plt.subplots(figsize=(10,5))\n",
    "ax.scatter(positive[\"Exam 1\"],positive[\"Exam 2\"],s=30,color='red',marker='o',label='Admitted')\n",
    "ax.scatter(negative[\"Exam 1\"],negative[\"Exam 2\"],s=30,color='blue',marker='x',label='Not Admitted')\n",
    "ax.legend()\n",
    "ax.set_xlabel('Exam 1 Score')\n",
    "ax.set_ylabel('Exam 2 Score')"
   ]
  },
  {
   "cell_type": "markdown",
   "metadata": {},
   "source": [
    "目标：建立分类器（求解出三个参数 $\\theta_0         \\theta_1         \\theta_2 $）\n",
    "\n",
    "\n",
    "设定阈值，根据阈值判断录取结果\n",
    "\n",
    "### 要完成的模块\n",
    "-  `sigmoid` : 映射到概率的函数\n",
    "\n",
    "-  `model` : 返回预测结果值\n",
    "\n",
    "-  `cost` : 根据参数计算损失\n",
    "\n",
    "-  `gradient` : 计算每个参数的梯度方向\n",
    "\n",
    "-  `descent` : 进行参数更新\n",
    "\n",
    "-  `accuracy`: 计算精度\n",
    "###  `sigmoid` 函数\n",
    "\n",
    "$$\n",
    "g(z) = \\frac{1}{1+e^{-z}}   \n",
    "$$"
   ]
  },
  {
   "cell_type": "code",
   "execution_count": 4,
   "metadata": {},
   "outputs": [],
   "source": [
    "import numpy as np\n",
    "def sigmoid(z):\n",
    "    return 1/(1 + np.exp(-z)) "
   ]
  },
  {
   "cell_type": "code",
   "execution_count": 5,
   "metadata": {},
   "outputs": [
    {
     "data": {
      "text/plain": [
       "[<matplotlib.lines.Line2D at 0x26e9a9b0f60>]"
      ]
     },
     "execution_count": 5,
     "metadata": {},
     "output_type": "execute_result"
    },
    {
     "data": {
      "image/png": "[encoded data removed]",
      "text/plain": [
       "<Figure size 864x288 with 1 Axes>"
      ]
     },
     "metadata": {
      "needs_background": "light"
     },
     "output_type": "display_data"
    }
   ],
   "source": [
    "nums = np.arange(-10,10)\n",
    "fig, ax = plt.subplots(figsize=(12,4))\n",
    "ax.plot(nums,sigmoid(nums),'g')"
   ]
  },
  {
   "cell_type": "code",
   "execution_count": 6,
   "metadata": {},
   "outputs": [],
   "source": [
    "def model(X,theta):\n",
    "    return sigmoid(np.dot(X,theta.T))"
   ]
  },
  {
   "cell_type": "markdown",
   "metadata": {},
   "source": [
    "$$\n",
    "\\begin{array}{ccc}\n",
    "\\begin{pmatrix}\\theta_{0} & \\theta_{1} & \\theta_{2}\\end{pmatrix} & \\times & \\begin{pmatrix}1\\\\\n",
    "x_{1}\\\\\n",
    "x_{2}\n",
    "\\end{pmatrix}\\end{array}=\\theta_{0}+\\theta_{1}x_{1}+\\theta_{2}x_{2}\n",
    "$$"
   ]
  },
  {
   "cell_type": "code",
   "execution_count": 7,
   "metadata": {},
   "outputs": [
    {
     "data": {
      "text/html": [
       "<div>\n",
       "<style scoped>\n",
       "    .dataframe tbody tr th:only-of-type {\n",
       "        vertical-align: middle;\n",
       "    }\n",
       "\n",
       "    .dataframe tbody tr th {\n",
       "        vertical-align: top;\n",
       "    }\n",
       "\n",
       "    .dataframe thead th {\n",
       "        text-align: right;\n",
       "    }\n",
       "</style>\n",
       "<table border=\"1\" class=\"dataframe\">\n",
       "  <thead>\n",
       "    <tr style=\"text-align: right;\">\n",
       "      <th></th>\n",
       "      <th>Ones</th>\n",
       "      <th>Exam 1</th>\n",
       "      <th>Exam 2</th>\n",
       "      <th>Admitted</th>\n",
       "    </tr>\n",
       "  </thead>\n",
       "  <tbody>\n",
       "    <tr>\n",
       "      <th>0</th>\n",
       "      <td>1</td>\n",
       "      <td>34.623660</td>\n",
       "      <td>78.024693</td>\n",
       "      <td>0</td>\n",
       "    </tr>\n",
       "    <tr>\n",
       "      <th>1</th>\n",
       "      <td>1</td>\n",
       "      <td>30.286711</td>\n",
       "      <td>43.894998</td>\n",
       "      <td>0</td>\n",
       "    </tr>\n",
       "    <tr>\n",
       "      <th>2</th>\n",
       "      <td>1</td>\n",
       "      <td>35.847409</td>\n",
       "      <td>72.902198</td>\n",
       "      <td>0</td>\n",
       "    </tr>\n",
       "    <tr>\n",
       "      <th>3</th>\n",
       "      <td>1</td>\n",
       "      <td>60.182599</td>\n",
       "      <td>86.308552</td>\n",
       "      <td>1</td>\n",
       "    </tr>\n",
       "    <tr>\n",
       "      <th>4</th>\n",
       "      <td>1</td>\n",
       "      <td>79.032736</td>\n",
       "      <td>75.344376</td>\n",
       "      <td>1</td>\n",
       "    </tr>\n",
       "  </tbody>\n",
       "</table>\n",
       "</div>"
      ],
      "text/plain": [
       "   Ones     Exam 1     Exam 2  Admitted\n",
       "0     1  34.623660  78.024693         0\n",
       "1     1  30.286711  43.894998         0\n",
       "2     1  35.847409  72.902198         0\n",
       "3     1  60.182599  86.308552         1\n",
       "4     1  79.032736  75.344376         1"
      ]
     },
     "execution_count": 7,
     "metadata": {},
     "output_type": "execute_result"
    }
   ],
   "source": [
    "data.insert(0,\"Ones\",1)\n",
    "data.head(5)"
   ]
  },
  {
   "cell_type": "markdown",
   "metadata": {},
   "source": [
    "### 损失函数\n",
    "将对数似然函数去负号\n",
    "\n",
    "$$\n",
    "D(h_\\theta(x), y) = -y\\log(h_\\theta(x)) - (1-y)\\log(1-h_\\theta(x))\n",
    "$$\n",
    "求平均损失\n",
    "$$\n",
    "J(\\theta)=\\frac{1}{n}\\sum_{i=1}^{n} D(h_\\theta(x_i), y_i)\n",
    "$$"
   ]
  },
  {
   "cell_type": "code",
   "execution_count": 8,
   "metadata": {},
   "outputs": [],
   "source": [
    "def cost(X,y,theta):\n",
    "    left = np.multiply(-y,np.log(model(X,theta)))\n",
    "    right = np.multiply((1-y),np.log(1-model(X,theta)))\n",
    "    return np.sum(left-right)/(len(X))"
   ]
  },
  {
   "cell_type": "markdown",
   "metadata": {},
   "source": [
    "### 计算梯度\n",
    "\n",
    "\n",
    "$$\n",
    "\\frac{\\partial J}{\\partial \\theta_j}=-\\frac{1}{m}\\sum_{i=1}^n (y_i - h_\\theta (x_i))x_{ij}\n",
    "$$\n"
   ]
  },
  {
   "cell_type": "code",
   "execution_count": 36,
   "metadata": {},
   "outputs": [],
   "source": [
    "def gradient(X,y,theta):\n",
    "    grad = np.zeros(theta.shape)\n",
    "    error = (model(X,theta)-y).ravel()\n",
    "    for j in range(len(theta.ravel())):\n",
    "        term = np.multiply(error,X[:,j])\n",
    "        grad[0,j] = np.sum(term) / len(X)\n",
    "    return grad\n"
   ]
  },
  {
   "cell_type": "code",
   "execution_count": 37,
   "metadata": {},
   "outputs": [],
   "source": [
    "def change(X,y,theta,alpha):\n",
    "    gra = gradient(X,y,theta)\n",
    "    alpha_gra = alpha * gra\n",
    "    theta = theta-alpha_gra\n",
    "    return theta"
   ]
  },
  {
   "cell_type": "code",
   "execution_count": 56,
   "metadata": {},
   "outputs": [
    {
     "name": "stderr",
     "output_type": "stream",
     "text": [
      "e:\\anaconda\\lib\\site-packages\\ipykernel_launcher.py:1: FutureWarning: Method .as_matrix will be removed in a future version. Use .values instead.\n",
      "  \"\"\"Entry point for launching an IPython kernel.\n"
     ]
    }
   ],
   "source": [
    "newdata = data.as_matrix()\n",
    "\n",
    "columns = newdata.shape[1]\n",
    "\n",
    "X = newdata[:,0:columns-1]\n",
    "y = newdata[:,columns-1:columns]\n",
    "theta = np.zeros([1,3])"
   ]
  },
  {
   "cell_type": "code",
   "execution_count": 39,
   "metadata": {},
   "outputs": [
    {
     "name": "stdout",
     "output_type": "stream",
     "text": [
      "cost:0.69\n",
      "cost:0.69\n",
      "cost:0.63\n",
      "cost:0.63\n",
      "cost:0.63\n",
      "cost:0.63\n",
      "cost:0.63\n",
      "cost:0.63\n",
      "cost:0.63\n",
      "cost:0.63\n",
      "cost:0.63\n"
     ]
    },
    {
     "data": {
      "text/plain": [
       "[<matplotlib.lines.Line2D at 0x26e97a364e0>]"
      ]
     },
     "execution_count": 39,
     "metadata": {},
     "output_type": "execute_result"
    },
    {
     "data": {
      "image/png": "[encoded data removed]",
      "text/plain": [
       "<Figure size 864x288 with 1 Axes>"
      ]
     },
     "metadata": {
      "needs_background": "light"
     },
     "output_type": "display_data"
    }
   ],
   "source": [
    "run_number = 10000\n",
    "print(\"cost:%.2f\"%cost(X,y,theta))\n",
    "cost_list = []\n",
    "cost_list.append(cost(X,y,theta))\n",
    "for i in range(run_number):\n",
    "    theta = change(X,y,theta,0.00002)\n",
    "    if(i%1000==0):\n",
    "        print(\"cost:%.2f\"%cost(X,y,theta))\n",
    "        cost_list.append(cost(X,y,theta))\n",
    "fig, ax = plt.subplots(figsize=(12,4))\n",
    "ax.plot(np.arange(len(cost_list)), cost_list,\"red\")"
   ]
  },
  {
   "cell_type": "code",
   "execution_count": 57,
   "metadata": {},
   "outputs": [
    {
     "name": "stdout",
     "output_type": "stream",
     "text": [
      "cost:0.69\n",
      "cost:0.69\n",
      "cost:0.57\n",
      "cost:0.50\n",
      "cost:0.45\n",
      "cost:0.41\n",
      "cost:0.38\n",
      "cost:0.36\n",
      "cost:0.35\n",
      "cost:0.33\n",
      "cost:0.32\n",
      "cost:0.31\n",
      "cost:0.30\n",
      "cost:0.30\n",
      "cost:0.29\n",
      "cost:0.29\n",
      "cost:0.28\n",
      "cost:0.28\n",
      "cost:0.27\n",
      "cost:0.27\n",
      "cost:0.27\n",
      "cost:0.26\n",
      "cost:0.26\n",
      "cost:0.26\n",
      "cost:0.25\n",
      "cost:0.25\n",
      "cost:0.25\n",
      "cost:0.25\n",
      "cost:0.25\n",
      "cost:0.25\n",
      "cost:0.24\n",
      "cost:0.24\n",
      "cost:0.24\n",
      "cost:0.24\n",
      "cost:0.24\n",
      "cost:0.24\n",
      "cost:0.24\n",
      "cost:0.24\n",
      "cost:0.23\n",
      "cost:0.23\n",
      "cost:0.23\n",
      "cost:0.23\n",
      "cost:0.23\n",
      "cost:0.23\n",
      "cost:0.23\n",
      "cost:0.23\n",
      "cost:0.23\n",
      "cost:0.23\n",
      "cost:0.23\n",
      "cost:0.23\n",
      "cost:0.23\n"
     ]
    },
    {
     "data": {
      "text/plain": [
       "[<matplotlib.lines.Line2D at 0x26e9d7960f0>]"
      ]
     },
     "execution_count": 57,
     "metadata": {},
     "output_type": "execute_result"
    },
    {
     "data": {
      "image/png": "[encoded data removed]",
      "text/plain": [
       "<Figure size 864x288 with 1 Axes>"
      ]
     },
     "metadata": {
      "needs_background": "light"
     },
     "output_type": "display_data"
    }
   ],
   "source": [
    "from sklearn.preprocessing import StandardScaler\n",
    "scaled_data = newdata.copy()\n",
    "scaled_data[:, 1:3] = StandardScaler().fit_transform(scaled_data[:, 1:3])\n",
    "X = scaled_data[:,0:3]\n",
    "run_number = 50000\n",
    "print(\"cost:%.2f\"%cost(X,y,theta))\n",
    "cost_list = []\n",
    "cost_list.append(cost(X,y,theta))\n",
    "for i in range(run_number):\n",
    "    theta = change(X,y,theta,0.001)\n",
    "    if(i%1000==0):\n",
    "        print(\"cost:%.2f\"%cost(X,y,theta))\n",
    "        cost_list.append(cost(X,y,theta))\n",
    "fig, ax = plt.subplots(figsize=(12,4))\n",
    "ax.plot(np.arange(len(cost_list)), cost_list,\"red\")"
   ]
  },
  {
   "cell_type": "code",
   "execution_count": null,
   "metadata": {},
   "outputs": [],
   "source": []
  }
 ],
 "metadata": {
  "kernelspec": {
   "display_name": "Python 3",
   "language": "python",
   "name": "python3"
  },
  "language_info": {
   "codemirror_mode": {
    "name": "ipython",
    "version": 3
   },
   "file_extension": ".py",
   "mimetype": "text/x-python",
   "name": "python",
   "nbconvert_exporter": "python",
   "pygments_lexer": "ipython3",
   "version": "3.5.5"
  }
 },
 "nbformat": 4,
 "nbformat_minor": 2
}
