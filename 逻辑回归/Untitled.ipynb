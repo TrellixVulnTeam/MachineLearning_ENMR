{
 "cells": [
  {
   "cell_type": "code",
   "execution_count": 6,
   "metadata": {},
   "outputs": [
    {
     "name": "stderr",
     "output_type": "stream",
     "text": [
      "e:\\anaconda\\lib\\site-packages\\ipykernel_launcher.py:15: DeprecationWarning: \n",
      ".ix is deprecated. Please use\n",
      ".loc for label based indexing or\n",
      ".iloc for positional indexing\n",
      "\n",
      "See the documentation here:\n",
      "http://pandas.pydata.org/pandas-docs/stable/indexing.html#ix-indexer-is-deprecated\n",
      "  from ipykernel import kernelapp as app\n",
      "e:\\anaconda\\lib\\site-packages\\ipykernel_launcher.py:16: DeprecationWarning: \n",
      ".ix is deprecated. Please use\n",
      ".loc for label based indexing or\n",
      ".iloc for positional indexing\n",
      "\n",
      "See the documentation here:\n",
      "http://pandas.pydata.org/pandas-docs/stable/indexing.html#ix-indexer-is-deprecated\n",
      "  app.launch_new_instance()\n",
      "e:\\anaconda\\lib\\site-packages\\ipykernel_launcher.py:35: DeprecationWarning: \n",
      ".ix is deprecated. Please use\n",
      ".loc for label based indexing or\n",
      ".iloc for positional indexing\n",
      "\n",
      "See the documentation here:\n",
      "http://pandas.pydata.org/pandas-docs/stable/indexing.html#ix-indexer-is-deprecated\n",
      "e:\\anaconda\\lib\\site-packages\\ipykernel_launcher.py:36: DeprecationWarning: \n",
      ".ix is deprecated. Please use\n",
      ".loc for label based indexing or\n",
      ".iloc for positional indexing\n",
      "\n",
      "See the documentation here:\n",
      "http://pandas.pydata.org/pandas-docs/stable/indexing.html#ix-indexer-is-deprecated\n"
     ]
    }
   ],
   "source": [
    "import pandas as pd\n",
    "import numpy as np\n",
    "from imblearn.over_sampling import SMOTE\n",
    "from sklearn.preprocessing import StandardScaler\n",
    "from sklearn.model_selection import train_test_split,KFold\n",
    "from sklearn.linear_model import LogisticRegression\n",
    "from sklearn.metrics import recall_score\n",
    "data=pd.read_csv('creditcard.csv')\n",
    "#对数据进行预处理\n",
    "l=np.array(data['Amount']).reshape(-1,1)\n",
    "data['normAmount'] = StandardScaler().fit_transform(l )\n",
    "#删除列，axis默认为0是删除行，列是1\n",
    "data=data.drop(['Time','Amount'],axis=1)\n",
    "#print(data.head())\n",
    "X = data.ix[:, data.columns != 'Class']\n",
    "y = data.ix[:, data.columns == 'Class']\n",
    "number=len(data[data['Class']==1])\n",
    "#print(number)\n",
    "#返回下标值\n",
    "fraud_indices=np.array(data[data['Class']==1].index)\n",
    "normal_indices=(data[data['Class']==0]).index\n",
    "#print(normal_indices)\n",
    "#下采样，把多的行数变成和少的行数一样\n",
    "random_normal_indices=np.random.choice(normal_indices,number,replace=False)\n",
    "#print(random_normal_indices)\n",
    "random_normal_indices=np.array(random_normal_indices)\n",
    "#print(random_normal_indices)\n",
    "#把两个下标合并一起\n",
    "under_sample_indices=np.concatenate([fraud_indices,random_normal_indices])\n",
    "#print(len(under_sample_indices))\n",
    "#iloc 在index的位置上进行索引,不包括end  loc 在index的标签上进行索引,范围包括start和end。\n",
    "#data.iloc[:2,:]是前两行 ，loc[:2,:]是到0到2这个下标值的行数\n",
    "under_sample_data=data.iloc[under_sample_indices,:]\n",
    "#print(under_sample_data)\n",
    "X_sample=under_sample_data.ix[:,under_sample_data.columns!='Class']\n",
    "Y_sample=under_sample_data.ix[:,under_sample_data.columns =='Class']\n",
    "#print(len(Y_sample[Y_sample.values==1])/(len(Y_sample[Y_sample.values==1])+len(Y_sample[Y_sample.values==0])))\n",
    "#random_state=0 保证每次运行切分出的数据不会变\n",
    "X_train,X_test,y_train,y_test=train_test_split(X,y,test_size=0.3,random_state=0)\n",
    "X_train_undersample,X_test_undersample,y_train_undersample,y_test_undersample=train_test_split(X_sample,Y_sample,test_size=0.3,random_state=0)"
   ]
  },
  {
   "cell_type": "code",
   "execution_count": 7,
   "metadata": {},
   "outputs": [],
   "source": [
    "def printing_Kfold_scores(x_train_data,y_train_data):\n",
    "    fold=KFold(5,shuffle=False)\n",
    "    c_param_range=[0.01,0.1,1,10,100]\n",
    "    results_table = pd.DataFrame(index=range(len(c_param_range), 2), columns=['C_parameter', 'Mean recall score'])\n",
    "    results_table['C_parameter'] = c_param_range\n",
    "    j=0\n",
    "    for c_param in c_param_range:\n",
    "        print('-------------------------------')\n",
    "        print('C parameter:',c_param)\n",
    "        print('-------------------------------')\n",
    "        print('')\n",
    "        recall_accs=[]\n",
    "        #fold.split(x_train_data)返回两个值 一个是交叉验证的测试集，一个是交叉验证是验证集\n",
    "        #indices[0]为测试集的下标值，indices[1]为验证集的下标值\n",
    "        for iteration,indices in enumerate(fold.split(x_train_data),start=1):\n",
    "            lr = LogisticRegression(C=c_param, penalty='l1')\n",
    "            lr.fit(x_train_data.iloc[indices[0], :], y_train_data.iloc[indices[0], :].values.ravel())\n",
    "            y_pred_undersample = lr.predict(x_train_data.iloc[indices[1], :].values)\n",
    "            recall_acc = recall_score(y_train_data.iloc[indices[1], :].values, y_pred_undersample)\n",
    "            recall_accs.append(recall_acc)\n",
    "            print('Iteration ', iteration, ': recall score = ', recall_acc)\n",
    "        results_table.ix[j, 'Mean recall score'] = np.mean(recall_accs)\n",
    "        j += 1\n",
    "        print('')\n",
    "        print('Mean recall score ', np.mean(recall_accs))\n",
    "        print('')\n",
    "    print(results_table)"
   ]
  },
  {
   "cell_type": "code",
   "execution_count": 8,
   "metadata": {},
   "outputs": [
    {
     "name": "stdout",
     "output_type": "stream",
     "text": [
      "227845\n",
      "454908\n",
      "0.9108910891089109\n"
     ]
    }
   ],
   "source": [
    "credit_cards=pd.read_csv('creditcard.csv')\n",
    "columns=credit_cards.columns\n",
    "\n",
    "features_columns=columns.delete(len(columns)-1)\n",
    "features=credit_cards[features_columns]\n",
    "labels=credit_cards['Class']\n",
    "features_train, features_test, labels_train, labels_test = train_test_split(features, labels, test_size=0.2, random_state=0)\n",
    "print(len(features_train))\n",
    "oversampler=SMOTE(random_state=0)\n",
    "os_features,os_labels=oversampler.fit_sample(features_train,labels_train)\n",
    "print(len(os_features))\n",
    "os_features = pd.DataFrame(os_features)\n",
    "os_labels = pd.DataFrame(os_labels)\n",
    "#printing_Kfold_scores(os_features,os_labels)\n",
    "\n",
    "lr = LogisticRegression(C = 1, penalty = 'l1')\n",
    "lr.fit(os_features,os_labels.values.ravel())\n",
    "y_pred = lr.predict(features_test.values)\n",
    "recall_acc = recall_score(labels_test, y_pred)\n",
    "print(recall_acc)"
   ]
  },
  {
   "cell_type": "code",
   "execution_count": null,
   "metadata": {},
   "outputs": [],
   "source": []
  }
 ],
 "metadata": {
  "kernelspec": {
   "display_name": "Python 3",
   "language": "python",
   "name": "python3"
  },
  "language_info": {
   "codemirror_mode": {
    "name": "ipython",
    "version": 3
   },
   "file_extension": ".py",
   "mimetype": "text/x-python",
   "name": "python",
   "nbconvert_exporter": "python",
   "pygments_lexer": "ipython3",
   "version": "3.5.5"
  }
 },
 "nbformat": 4,
 "nbformat_minor": 2
}
